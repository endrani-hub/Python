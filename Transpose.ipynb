{
 "cells": [
  {
   "cell_type": "code",
   "execution_count": 3,
   "metadata": {},
   "outputs": [
    {
     "name": "stdout",
     "output_type": "stream",
     "text": [
      "Enter number of rows : 1\n",
      "Enter number of columns : 1\n",
      "Enter a number : 5\n",
      "[[5]]\n",
      "[[5]]\n"
     ]
    }
   ],
   "source": [
    "def matrix_transpose(matrix):\n",
    "    print(matrix)\n",
    "    rows = len(matrix)\n",
    "    columns = len(matrix[0])\n",
    "    mat_t = []\n",
    "    for i in range(columns):\n",
    "        row_mat = []\n",
    "        for j in range(rows):\n",
    "            row_mat.append(0)\n",
    "        mat_t.append(row_mat)\n",
    "        for i in range(columns):\n",
    "            for j in range(rows):\n",
    "                mat_t[i][j] = matrix[j][i]\n",
    "            return mat_t\n",
    "rows = int(input('Enter number of rows: '))\n",
    "columns = int(input('Enter number of columns: '))\n",
    "mat = []\n",
    "for i in range(rows):\n",
    "    row_list = []\n",
    "    for j in range(columns):\n",
    "        row_list.append(int(input('Enter a number: ')))\n",
    "    mat.append(row_list)\n",
    "print(matrix_transpose(mat))"
   ]
  },
  {
   "cell_type": "code",
   "execution_count": null,
   "metadata": {},
   "outputs": [],
   "source": []
  }
 ],
 "metadata": {
  "kernelspec": {
   "display_name": "Python 3",
   "language": "python",
   "name": "python3"
  },
  "language_info": {
   "codemirror_mode": {
    "name": "ipython",
    "version": 3
   },
   "file_extension": ".py",
   "mimetype": "text/x-python",
   "name": "python",
   "nbconvert_exporter": "python",
   "pygments_lexer": "ipython3",
   "version": "3.7.4"
  }
 },
 "nbformat": 4,
 "nbformat_minor": 4
}
