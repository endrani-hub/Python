{
 "cells": [
  {
   "cell_type": "code",
   "execution_count": 1,
   "metadata": {},
   "outputs": [],
   "source": [
    "def merge(first, second):\n",
    "    result = []\n",
    "    i, j = 0, 0\n",
    "    while i < len(first) and j < len(second):\n",
    "        if first[i] < second[j]:\n",
    "            result.append(first[i])\n",
    "            i += 1\n",
    "        else:\n",
    "            result.append(second[j])\n",
    "            j += 1\n",
    "    while i < len(first):\n",
    "        result.append(first[i])\n",
    "        i += 1\n",
    "\n",
    "    while j < len(second):\n",
    "        result.append(second[j])\n",
    "        j += 1\n",
    "\n",
    "    return result"
   ]
  },
  {
   "cell_type": "code",
   "execution_count": 2,
   "metadata": {},
   "outputs": [],
   "source": [
    "def merge_sort(L):\n",
    "    if len(L) < 2:\n",
    "        return L\n",
    "    else:\n",
    "        mid = len(L) // 2\n",
    "        first = merge_sort(L[: mid])\n",
    "        second = merge_sort(L[mid:])\n",
    "        return merge(first, second)"
   ]
  },
  {
   "cell_type": "code",
   "execution_count": 4,
   "metadata": {},
   "outputs": [
    {
     "name": "stdout",
     "output_type": "stream",
     "text": [
      "[1, 9, 10, 13, 25, 45]\n"
     ]
    }
   ],
   "source": [
    "print(merge_sort([10, 13, 1, 25, 9, 45]))"
   ]
  },
  {
   "cell_type": "code",
   "execution_count": null,
   "metadata": {},
   "outputs": [],
   "source": []
  }
 ],
 "metadata": {
  "kernelspec": {
   "display_name": "Python 3",
   "language": "python",
   "name": "python3"
  },
  "language_info": {
   "codemirror_mode": {
    "name": "ipython",
    "version": 3
   },
   "file_extension": ".py",
   "mimetype": "text/x-python",
   "name": "python",
   "nbconvert_exporter": "python",
   "pygments_lexer": "ipython3",
   "version": "3.7.4"
  }
 },
 "nbformat": 4,
 "nbformat_minor": 4
}
