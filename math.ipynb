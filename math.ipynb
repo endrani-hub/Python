{
 "cells": [
  {
   "cell_type": "code",
   "execution_count": 1,
   "metadata": {},
   "outputs": [],
   "source": [
    "import math\n",
    "\n",
    "def mit_1():\n",
    "    \n",
    "    x = int(input(\"Enter number x : \"))\n",
    "    y = int(input(\"Enter number y : \"))\n",
    "    power = x ** y\n",
    "    print(\"x ** y = \" , power)\n",
    "    logarithm = math.log2(power)\n",
    "    print(\"log(x) = \" , logarithm)"
   ]
  }
 ],
 "metadata": {
  "kernelspec": {
   "display_name": "Python 3",
   "language": "python",
   "name": "python3"
  },
  "language_info": {
   "codemirror_mode": {
    "name": "ipython",
    "version": 3
   },
   "file_extension": ".py",
   "mimetype": "text/x-python",
   "name": "python",
   "nbconvert_exporter": "python",
   "pygments_lexer": "ipython3",
   "version": "3.7.4"
  }
 },
 "nbformat": 4,
 "nbformat_minor": 4
}
