{
 "cells": [
  {
   "cell_type": "code",
   "execution_count": 2,
   "metadata": {},
   "outputs": [],
   "source": [
    "class Fraction(object):\n",
    "    def __init__(self , num , den):\n",
    "        self.num = num\n",
    "        self.den = den\n",
    "    def __str__(self):\n",
    "        return str(self.num) + '/' + str(self.den)\n",
    "    def __add__(self, other):\n",
    "        new_num = self.num * other.den + other.num * self.den\n",
    "        new_den = other.den * self.den\n",
    "        return Fraction(new_num , new_den)\n",
    "    def __sub__(self, other):\n",
    "        new_num = self.num * other.den - other.num * self.den\n",
    "        new_den = other.den * self.den\n",
    "        return Fraction(new_num, new_den)\n",
    "    def __float__(self):\n",
    "        return self.num / self.den\n",
    "    def __eq__(self, other):\n",
    "        return (self.num == other.num) and (self.den == other.den)\n",
    "    def inverse(self):\n",
    "        return Fraction(self.den , self.num)\n"
   ]
  },
  {
   "cell_type": "code",
   "execution_count": 4,
   "metadata": {},
   "outputs": [
    {
     "name": "stdout",
     "output_type": "stream",
     "text": [
      "1/2\n",
      "2/3\n",
      "2/1\n",
      "0.6666666666666666\n",
      "False\n",
      "7/6\n",
      "-1/6\n"
     ]
    }
   ],
   "source": [
    "frac_1 = Fraction(1 , 2)\n",
    "print(frac_1)\n",
    "frac_2 = Fraction(2 , 3)\n",
    "print(frac_2)\n",
    "print(frac_1.inverse())\n",
    "print(float(frac_2))\n",
    "print(frac_1 == frac_2)\n",
    "print(frac_1 + frac_2)\n",
    "print(frac_1 - frac_2)"
   ]
  },
  {
   "cell_type": "code",
   "execution_count": null,
   "metadata": {},
   "outputs": [],
   "source": []
  }
 ],
 "metadata": {
  "kernelspec": {
   "display_name": "Python 3",
   "language": "python",
   "name": "python3"
  },
  "language_info": {
   "codemirror_mode": {
    "name": "ipython",
    "version": 3
   },
   "file_extension": ".py",
   "mimetype": "text/x-python",
   "name": "python",
   "nbconvert_exporter": "python",
   "pygments_lexer": "ipython3",
   "version": "3.7.4"
  }
 },
 "nbformat": 4,
 "nbformat_minor": 4
}
