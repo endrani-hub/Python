{
 "cells": [
  {
   "cell_type": "code",
   "execution_count": 2,
   "metadata": {},
   "outputs": [
    {
     "name": "stdout",
     "output_type": "stream",
     "text": [
      "Enter number of rows : 2\n",
      "Enter number of columns : 2\n",
      "Enter first matrix elements : \n",
      "Enter a number : 14\n",
      "Enter a number : 16\n",
      "Enter a number : 14\n",
      "Enter a number : 44\n",
      "Enter second matrix elements : \n",
      "Enter a number : 2\n",
      "Enter a number : 2\n",
      "Enter a number : 4\n",
      "Enter a number : 1\n"
     ]
    }
   ],
   "source": [
    "def mat_add(mat1 , mat2):\n",
    "    rows = len(mat1)\n",
    "    cols = len(mat1[0])\n",
    "\n",
    "    added_mat = []\n",
    "    for i in range(rows):\n",
    "        row_list = []\n",
    "        for j in range(cols):\n",
    "            row_list.append(0)\n",
    "        added_mat.append(row_list)\n",
    "\n",
    "    for i in range(rows):\n",
    "        for j in range(cols):\n",
    "            added_mat[i][j] = mat1[i][j] + mat2[i][j]\n",
    "    return added_mat\n",
    "\n",
    "\n",
    "rows = int(input('Enter number of rows : '))\n",
    "columns = int(input('Enter number of columns : '))\n",
    "mat1 = []\n",
    "mat2 = []\n",
    "print('Enter first matrix elements : ')\n",
    "for i in range(rows):\n",
    "    row_list = []\n",
    "    for j in range(columns):\n",
    "        row_list.append(int(input('Enter a number : ')))\n",
    "    mat1.append(row_list)\n",
    "print('Enter second matrix elements : ')\n",
    "for i in range(rows):\n",
    "    row_list = []\n",
    "    for j in range(columns):\n",
    "        row_list.append(int(input('Enter a number : ')))\n",
    "    mat2.append(row_list)\n"
   ]
  },
  {
   "cell_type": "code",
   "execution_count": 3,
   "metadata": {},
   "outputs": [
    {
     "name": "stdout",
     "output_type": "stream",
     "text": [
      "[[16, 18], [18, 45]]\n"
     ]
    }
   ],
   "source": [
    "print(mat_add(mat1 , mat2))"
   ]
  }
 ],
 "metadata": {
  "kernelspec": {
   "display_name": "Python 3",
   "language": "python",
   "name": "python3"
  },
  "language_info": {
   "codemirror_mode": {
    "name": "ipython",
    "version": 3
   },
   "file_extension": ".py",
   "mimetype": "text/x-python",
   "name": "python",
   "nbconvert_exporter": "python",
   "pygments_lexer": "ipython3",
   "version": "3.7.4"
  }
 },
 "nbformat": 4,
 "nbformat_minor": 4
}
