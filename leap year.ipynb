{
 "cells": [
  {
   "cell_type": "code",
   "execution_count": 1,
   "metadata": {},
   "outputs": [
    {
     "name": "stdout",
     "output_type": "stream",
     "text": [
      "Enter the year you want to check for : 2000\n",
      "2000 is leap!\n"
     ]
    }
   ],
   "source": [
    "def leap_year(year):\n",
    "    \n",
    "    if((year % 100 != 0) and (year % 4 == 0)):\n",
    "        print(year, 'is leap!')\n",
    "    elif((year % 400 == 0)):\n",
    "        print(year , 'is leap!')\n",
    "    else:\n",
    "        print(year , 'is not leap!')\n",
    "\n",
    "year = int(input('Enter the year you want to check for : '))\n",
    "leap_year(year)"
   ]
  }
 ],
 "metadata": {
  "kernelspec": {
   "display_name": "Python 3",
   "language": "python",
   "name": "python3"
  },
  "language_info": {
   "codemirror_mode": {
    "name": "ipython",
    "version": 3
   },
   "file_extension": ".py",
   "mimetype": "text/x-python",
   "name": "python",
   "nbconvert_exporter": "python",
   "pygments_lexer": "ipython3",
   "version": "3.7.4"
  }
 },
 "nbformat": 4,
 "nbformat_minor": 4
}
