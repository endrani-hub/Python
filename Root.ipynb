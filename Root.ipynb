{
 "cells": [
  {
   "cell_type": "code",
   "execution_count": 4,
   "metadata": {},
   "outputs": [
    {
     "name": "stdout",
     "output_type": "stream",
     "text": [
      "Please enter a number :64\n",
      "0\n",
      "1\n",
      "2\n",
      "3\n",
      "The cube root is : 4\n"
     ]
    }
   ],
   "source": [
    "num = int(input('Please enter a number :'))\n",
    "\n",
    "ans = 0\n",
    "\n",
    "while ans**3 < abs(num):\n",
    "    print(ans)\n",
    "    ans = ans + 1\n",
    "\n",
    "if ans ** 3 != abs(num):\n",
    "    print('Sorry! The number doesn\\'t have a cube root!!')\n",
    "          \n",
    "else:\n",
    "    if num < 0:\n",
    "        ans = -ans\n",
    "    \n",
    "    print('The cube root is :' , ans)"
   ]
  }
 ],
 "metadata": {
  "kernelspec": {
   "display_name": "Python 3",
   "language": "python",
   "name": "python3"
  },
  "language_info": {
   "codemirror_mode": {
    "name": "ipython",
    "version": 3
   },
   "file_extension": ".py",
   "mimetype": "text/x-python",
   "name": "python",
   "nbconvert_exporter": "python",
   "pygments_lexer": "ipython3",
   "version": "3.7.4"
  }
 },
 "nbformat": 4,
 "nbformat_minor": 4
}
